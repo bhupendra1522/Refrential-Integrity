{
 "cells": [
  {
   "cell_type": "markdown",
   "id": "19fadbb5",
   "metadata": {},
   "source": [
    "\n",
    "# Exercise 3 SQLite # Refrential integrity"
   ]
  },
  {
   "cell_type": "raw",
   "id": "37c835e8",
   "metadata": {},
   "source": [
    "Refrential Integrity is used to maintian the data consistency between two tables. rules are made in the database structure about\n",
    "how foreign keys should be used to ensure that changes, addition and deletion in the database maintain the data integity. the\n",
    "the referntial integrity constrins state that if a foreign key in the first table refers to the primary key of the second table \n",
    "then every value of foreign key in the first table should either be null or present in the second table."
   ]
  },
  {
   "cell_type": "code",
   "execution_count": 1,
   "id": "f82d7f02",
   "metadata": {},
   "outputs": [],
   "source": [
    "import sqlite3"
   ]
  },
  {
   "cell_type": "code",
   "execution_count": null,
   "id": "503e8905",
   "metadata": {},
   "outputs": [],
   "source": []
  },
  {
   "cell_type": "code",
   "execution_count": 2,
   "id": "32fe4430",
   "metadata": {},
   "outputs": [],
   "source": [
    "db=sqlite3.connect(\"E:/bhupendra/student_course_database.db\")"
   ]
  },
  {
   "cell_type": "code",
   "execution_count": 3,
   "id": "503c265b",
   "metadata": {},
   "outputs": [],
   "source": [
    "cur=db.cursor()"
   ]
  },
  {
   "cell_type": "raw",
   "id": "b8343494",
   "metadata": {},
   "source": [
    "constraints-----\n",
    "unique -- enter only unique values, no duplicate values\n",
    "not null --no blank values inserted in table"
   ]
  },
  {
   "cell_type": "code",
   "execution_count": 5,
   "id": "26932771",
   "metadata": {},
   "outputs": [
    {
     "data": {
      "text/plain": [
       "<sqlite3.Cursor at 0x26b059649d0>"
      ]
     },
     "execution_count": 5,
     "metadata": {},
     "output_type": "execute_result"
    }
   ],
   "source": [
    "cur.execute(\"create table course(courseid int primary key , coursename text,duration int)\")"
   ]
  },
  {
   "cell_type": "code",
   "execution_count": 4,
   "id": "4cee26a6",
   "metadata": {},
   "outputs": [
    {
     "data": {
      "text/plain": [
       "<sqlite3.Cursor at 0x27218104ce0>"
      ]
     },
     "execution_count": 4,
     "metadata": {},
     "output_type": "execute_result"
    }
   ],
   "source": [
    "cur.execute(\"create table student(roll_no int primary key,studentname text,age int,courseid int,foreign key(courseid) references course(courseid))\") "
   ]
  },
  {
   "cell_type": "code",
   "execution_count": 5,
   "id": "0baca4eb",
   "metadata": {},
   "outputs": [
    {
     "name": "stdout",
     "output_type": "stream",
     "text": [
      "3 record(s) inserted \n"
     ]
    }
   ],
   "source": [
    "cur.execute(\"insert into course values(78,'data science',12),(56,'python course',4),(101,'database',7)\")\n",
    "\n",
    "print(cur.rowcount,\"record(s) inserted \")\n",
    "\n",
    "db.commit;"
   ]
  },
  {
   "cell_type": "code",
   "execution_count": 6,
   "id": "97a168fc",
   "metadata": {},
   "outputs": [
    {
     "name": "stdout",
     "output_type": "stream",
     "text": [
      "4 record(s) inserted \n"
     ]
    }
   ],
   "source": [
    "cur.execute(\"insert into student values(1,'jack',22,78),(2,'john',21,56),(3,'rudolf',18,78),(4,'jim',21,56)\")\n",
    "\n",
    "print(cur.rowcount,\"record(s) inserted \")\n",
    "\n",
    "db.commit;"
   ]
  },
  {
   "cell_type": "code",
   "execution_count": 11,
   "id": "441e21ce",
   "metadata": {},
   "outputs": [
    {
     "data": {
      "text/plain": [
       "[(78, 'data science', 12), (56, 'python course', 4), (101, 'database', 7)]"
      ]
     },
     "execution_count": 11,
     "metadata": {},
     "output_type": "execute_result"
    }
   ],
   "source": [
    "results=cur.execute('select * from course')\n",
    "\n",
    "results.fetchall()"
   ]
  },
  {
   "cell_type": "code",
   "execution_count": 8,
   "id": "e91bcf45",
   "metadata": {},
   "outputs": [
    {
     "data": {
      "text/plain": [
       "[(1, 'jack', 22, 78),\n",
       " (2, 'john', 21, 56),\n",
       " (3, 'rudolf', 18, 78),\n",
       " (4, 'jim', 21, 56)]"
      ]
     },
     "execution_count": 8,
     "metadata": {},
     "output_type": "execute_result"
    }
   ],
   "source": [
    "results=cur.execute('select * from student')\n",
    "\n",
    "results.fetchall()"
   ]
  },
  {
   "cell_type": "code",
   "execution_count": 10,
   "id": "f2a36d88",
   "metadata": {},
   "outputs": [
    {
     "name": "stdout",
     "output_type": "stream",
     "text": [
      "(78,)\n"
     ]
    }
   ],
   "source": [
    "results=cur.execute('select courseid from course where coursename =\"data science\"')\n",
    "\n",
    "for i in results:\n",
    "    print(i)"
   ]
  },
  {
   "cell_type": "markdown",
   "id": "5479f887",
   "metadata": {},
   "source": [
    "# Subquery"
   ]
  },
  {
   "cell_type": "raw",
   "id": "acf2599f",
   "metadata": {},
   "source": [
    "query  with in query = Subquery"
   ]
  },
  {
   "cell_type": "code",
   "execution_count": 14,
   "id": "8f940e3c",
   "metadata": {},
   "outputs": [
    {
     "data": {
      "text/plain": [
       "[(1, 'jack', 22, 78), (3, 'rudolf', 18, 78)]"
      ]
     },
     "execution_count": 14,
     "metadata": {},
     "output_type": "execute_result"
    }
   ],
   "source": [
    "results=cur.execute('select * from student where courseid=(select courseid from course where coursename=\"data science\")')\n",
    "\n",
    "results.fetchall()"
   ]
  },
  {
   "cell_type": "code",
   "execution_count": 15,
   "id": "33f4300f",
   "metadata": {},
   "outputs": [
    {
     "data": {
      "text/plain": [
       "[(2, 'john', 21, 56), (4, 'jim', 21, 56)]"
      ]
     },
     "execution_count": 15,
     "metadata": {},
     "output_type": "execute_result"
    }
   ],
   "source": [
    "results=cur.execute('select * from student where courseid=(select courseid from course where coursename=\"python course\")')\n",
    "\n",
    "results.fetchall()"
   ]
  },
  {
   "cell_type": "code",
   "execution_count": null,
   "id": "9de59a4d",
   "metadata": {},
   "outputs": [],
   "source": []
  },
  {
   "cell_type": "raw",
   "id": "bfc2592b",
   "metadata": {},
   "source": [
    "Join\n",
    "\n",
    "Defferent Types of SQL JOINs\n",
    "\n",
    "1 (INNER)JOIN: Returns records that have maching values in both tables.\n",
    "2 LEFT (OUTER) JOIN: Returns all records from the left table, and the matched records from the right table\n",
    "3 RIGHT (OUTER) JOIN: Returns all records from the right table, and the matched records from the left table\n",
    "4 FULL(OUTER)JOIN:  Rerturns all records when there is a match in either left or right table"
   ]
  },
  {
   "cell_type": "markdown",
   "id": "5bb4e61b",
   "metadata": {},
   "source": [
    "# INNER JOIN"
   ]
  },
  {
   "cell_type": "code",
   "execution_count": 16,
   "id": "10061dba",
   "metadata": {},
   "outputs": [
    {
     "name": "stdout",
     "output_type": "stream",
     "text": [
      "(1, 'jack', 78, 'data science')\n",
      "(2, 'john', 56, 'python course')\n",
      "(3, 'rudolf', 78, 'data science')\n",
      "(4, 'jim', 56, 'python course')\n"
     ]
    }
   ],
   "source": [
    "sql= \"SELECT student.roll_no, student.studentname, course.courseid, course.coursename FROM student INNER JOIN course ON student.courseid = course.courseid\"\n",
    "\n",
    "results = cur.execute(sql)\n",
    "for row in results:\n",
    "    print(row)"
   ]
  },
  {
   "cell_type": "markdown",
   "id": "c0bb72e0",
   "metadata": {},
   "source": [
    "# LEFT JOIN"
   ]
  },
  {
   "cell_type": "code",
   "execution_count": 17,
   "id": "b1edab21",
   "metadata": {},
   "outputs": [
    {
     "name": "stdout",
     "output_type": "stream",
     "text": [
      "(1, 'jack', 78, 'data science')\n",
      "(2, 'john', 56, 'python course')\n",
      "(3, 'rudolf', 78, 'data science')\n",
      "(4, 'jim', 56, 'python course')\n"
     ]
    }
   ],
   "source": [
    "sql= \"SELECT student.roll_no, student.studentname, course.courseid, course.coursename FROM student LEFT JOIN course ON student.courseid = course.courseid\"\n",
    "\n",
    "results = cur.execute(sql)\n",
    "for row in results:\n",
    "    print(row)"
   ]
  },
  {
   "cell_type": "code",
   "execution_count": 20,
   "id": "5bf17af2",
   "metadata": {},
   "outputs": [
    {
     "name": "stdout",
     "output_type": "stream",
     "text": [
      "(1, 'jack', 78, 'data science')\n",
      "(3, 'rudolf', 78, 'data science')\n",
      "(2, 'john', 56, 'python course')\n",
      "(4, 'jim', 56, 'python course')\n",
      "(None, None, 101, 'database')\n"
     ]
    }
   ],
   "source": [
    "sql= \"SELECT student.roll_no, student.studentname, course.courseid,course.coursename FROM course LEFT JOIN student ON student.courseid = course.courseid\"\n",
    "\n",
    "results = cur.execute(sql)\n",
    "for row in results:\n",
    "    print(row)"
   ]
  },
  {
   "cell_type": "raw",
   "id": "2ce2eb96",
   "metadata": {},
   "source": [
    "RIGHT JOIN and FULL OUTER JOIN NOT SUPPORTED IN SQLITE"
   ]
  },
  {
   "cell_type": "code",
   "execution_count": null,
   "id": "ebf4f584",
   "metadata": {},
   "outputs": [],
   "source": []
  }
 ],
 "metadata": {
  "kernelspec": {
   "display_name": "Python 3 (ipykernel)",
   "language": "python",
   "name": "python3"
  },
  "language_info": {
   "codemirror_mode": {
    "name": "ipython",
    "version": 3
   },
   "file_extension": ".py",
   "mimetype": "text/x-python",
   "name": "python",
   "nbconvert_exporter": "python",
   "pygments_lexer": "ipython3",
   "version": "3.9.13"
  }
 },
 "nbformat": 4,
 "nbformat_minor": 5
}
